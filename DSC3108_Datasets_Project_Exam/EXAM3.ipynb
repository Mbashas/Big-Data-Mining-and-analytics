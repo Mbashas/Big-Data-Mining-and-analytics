{
 "cells": [
  {
   "cell_type": "code",
   "execution_count": null,
   "metadata": {},
   "outputs": [],
   "source": [
    "import pickle\n",
    "import pandas as pd\n",
    "\n",
    "# 1. Load the model\n",
    "with open('best_random_forest_model.pkl', 'rb') as file:\n",
    "    loaded_model = pickle.load(file)\n",
    "\n",
    "# 2. Load and prepare new data\n",
    "data_test = pd.read_csv('your_new_data.csv') \n",
    "# ... (preprocessing if needed) ...\n",
    "\n",
    "# 3. Make predictions\n",
    "predictions = loaded_model.predict(new_data)\n",
    "\n",
    "# 4. Print or analyze the predictions\n",
    "print(predictions)"
   ]
  }
 ],
 "metadata": {
  "language_info": {
   "name": "python"
  }
 },
 "nbformat": 4,
 "nbformat_minor": 2
}
