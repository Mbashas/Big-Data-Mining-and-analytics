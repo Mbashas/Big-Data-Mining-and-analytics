{
 "cells": [
  {
   "cell_type": "code",
   "execution_count": null,
   "metadata": {},
   "outputs": [],
   "source": [
    "import pandas as pd"
   ]
  },
  {
   "cell_type": "code",
   "execution_count": 1,
   "metadata": {},
   "outputs": [
    {
     "name": "stdout",
     "output_type": "stream",
     "text": [
      "Requirement already satisfied: pandas in c:\\users\\seth\\appdata\\local\\programs\\python\\python312\\lib\\site-packages (2.2.2)\n",
      "Requirement already satisfied: numpy>=1.26.0 in c:\\users\\seth\\appdata\\local\\programs\\python\\python312\\lib\\site-packages (from pandas) (2.1.1)\n",
      "Requirement already satisfied: python-dateutil>=2.8.2 in c:\\users\\seth\\appdata\\local\\programs\\python\\python312\\lib\\site-packages (from pandas) (2.9.0.post0)\n",
      "Requirement already satisfied: pytz>=2020.1 in c:\\users\\seth\\appdata\\local\\programs\\python\\python312\\lib\\site-packages (from pandas) (2024.1)\n",
      "Requirement already satisfied: tzdata>=2022.7 in c:\\users\\seth\\appdata\\local\\programs\\python\\python312\\lib\\site-packages (from pandas) (2024.1)\n",
      "Requirement already satisfied: six>=1.5 in c:\\users\\seth\\appdata\\local\\programs\\python\\python312\\lib\\site-packages (from python-dateutil>=2.8.2->pandas) (1.16.0)\n",
      "Note: you may need to restart the kernel to use updated packages.\n"
     ]
    }
   ],
   "source": [
    "%pip install pandas"
   ]
  },
  {
   "cell_type": "code",
   "execution_count": 2,
   "metadata": {},
   "outputs": [
    {
     "name": "stdout",
     "output_type": "stream",
     "text": [
      "2.2.2\n"
     ]
    }
   ],
   "source": [
    "import pandas as pd\n",
    "print(pd.__version__)\n"
   ]
  },
  {
   "cell_type": "code",
   "execution_count": 3,
   "metadata": {},
   "outputs": [
    {
     "name": "stdout",
     "output_type": "stream",
     "text": [
      "Requirement already satisfied: seaborn in c:\\users\\seth\\appdata\\local\\programs\\python\\python312\\lib\\site-packages (0.13.2)\n",
      "Requirement already satisfied: numpy!=1.24.0,>=1.20 in c:\\users\\seth\\appdata\\local\\programs\\python\\python312\\lib\\site-packages (from seaborn) (2.1.1)\n",
      "Requirement already satisfied: pandas>=1.2 in c:\\users\\seth\\appdata\\local\\programs\\python\\python312\\lib\\site-packages (from seaborn) (2.2.2)\n",
      "Requirement already satisfied: matplotlib!=3.6.1,>=3.4 in c:\\users\\seth\\appdata\\local\\programs\\python\\python312\\lib\\site-packages (from seaborn) (3.9.2)\n",
      "Requirement already satisfied: contourpy>=1.0.1 in c:\\users\\seth\\appdata\\local\\programs\\python\\python312\\lib\\site-packages (from matplotlib!=3.6.1,>=3.4->seaborn) (1.3.0)\n",
      "Requirement already satisfied: cycler>=0.10 in c:\\users\\seth\\appdata\\local\\programs\\python\\python312\\lib\\site-packages (from matplotlib!=3.6.1,>=3.4->seaborn) (0.12.1)\n",
      "Requirement already satisfied: fonttools>=4.22.0 in c:\\users\\seth\\appdata\\local\\programs\\python\\python312\\lib\\site-packages (from matplotlib!=3.6.1,>=3.4->seaborn) (4.53.1)\n",
      "Requirement already satisfied: kiwisolver>=1.3.1 in c:\\users\\seth\\appdata\\local\\programs\\python\\python312\\lib\\site-packages (from matplotlib!=3.6.1,>=3.4->seaborn) (1.4.7)\n",
      "Requirement already satisfied: packaging>=20.0 in c:\\users\\seth\\appdata\\local\\programs\\python\\python312\\lib\\site-packages (from matplotlib!=3.6.1,>=3.4->seaborn) (24.1)\n",
      "Requirement already satisfied: pillow>=8 in c:\\users\\seth\\appdata\\local\\programs\\python\\python312\\lib\\site-packages (from matplotlib!=3.6.1,>=3.4->seaborn) (10.4.0)\n",
      "Requirement already satisfied: pyparsing>=2.3.1 in c:\\users\\seth\\appdata\\local\\programs\\python\\python312\\lib\\site-packages (from matplotlib!=3.6.1,>=3.4->seaborn) (3.1.4)\n",
      "Requirement already satisfied: python-dateutil>=2.7 in c:\\users\\seth\\appdata\\local\\programs\\python\\python312\\lib\\site-packages (from matplotlib!=3.6.1,>=3.4->seaborn) (2.9.0.post0)\n",
      "Requirement already satisfied: pytz>=2020.1 in c:\\users\\seth\\appdata\\local\\programs\\python\\python312\\lib\\site-packages (from pandas>=1.2->seaborn) (2024.1)\n",
      "Requirement already satisfied: tzdata>=2022.7 in c:\\users\\seth\\appdata\\local\\programs\\python\\python312\\lib\\site-packages (from pandas>=1.2->seaborn) (2024.1)\n",
      "Requirement already satisfied: six>=1.5 in c:\\users\\seth\\appdata\\local\\programs\\python\\python312\\lib\\site-packages (from python-dateutil>=2.7->matplotlib!=3.6.1,>=3.4->seaborn) (1.16.0)\n",
      "Note: you may need to restart the kernel to use updated packages.\n"
     ]
    }
   ],
   "source": [
    "pip install seaborn"
   ]
  },
  {
   "cell_type": "code",
   "execution_count": 12,
   "metadata": {},
   "outputs": [],
   "source": [
    "import matplotlib as mat\n",
    "import numpy as np\n",
    "import pandas as pd\n",
    "import seaborn as sn\n",
    "import numpy as np #structuring data\n",
    "import pandas as pd #import and transform-data import seaborn as sn #Generates visuals\n",
    "import matplotlib as mat #Generates visuals"
   ]
  },
  {
   "cell_type": "code",
   "execution_count": 12,
   "metadata": {},
   "outputs": [
    {
     "name": "stdout",
     "output_type": "stream",
     "text": [
      "   Access_no  gender  age                   course  DSC3108  DSC3114  MTH3108  \\\n",
      "0    2023001    Male   20              Mathematics     75.0     82.0       68   \n",
      "1    2023002  Female   19  Artificial Intelligence     88.0     90.0       75   \n",
      "2    2023003    Male   21              Mathematics      NaN     70.0       55   \n",
      "3    2023004  Female   20  Artificial Intelligence     92.0     87.0       80   \n",
      "4    2023005    Male   19              Mathematics     78.0      NaN       60   \n",
      "\n",
      "   SYE3104  \n",
      "0     79.0  \n",
      "1     85.0  \n",
      "2     60.0  \n",
      "3      NaN  \n",
      "4     70.0  \n"
     ]
    }
   ],
   "source": [
    "import pandas as pd\n",
    "\n",
    "file_path = r\"C:\\Users\\seth\\Downloads\\studentperfomance.xlsx\"\n",
    "\n",
    "grades = pd.read_excel(file_path)\n",
    "\n",
    "print(grades.head()) "
   ]
  },
  {
   "cell_type": "code",
   "execution_count": 13,
   "metadata": {},
   "outputs": [
    {
     "data": {
      "text/html": [
       "<div>\n",
       "<style scoped>\n",
       "    .dataframe tbody tr th:only-of-type {\n",
       "        vertical-align: middle;\n",
       "    }\n",
       "\n",
       "    .dataframe tbody tr th {\n",
       "        vertical-align: top;\n",
       "    }\n",
       "\n",
       "    .dataframe thead th {\n",
       "        text-align: right;\n",
       "    }\n",
       "</style>\n",
       "<table border=\"1\" class=\"dataframe\">\n",
       "  <thead>\n",
       "    <tr style=\"text-align: right;\">\n",
       "      <th></th>\n",
       "      <th>Access_no</th>\n",
       "      <th>gender</th>\n",
       "      <th>age</th>\n",
       "      <th>course</th>\n",
       "      <th>DSC3108</th>\n",
       "      <th>DSC3114</th>\n",
       "      <th>MTH3108</th>\n",
       "      <th>SYE3104</th>\n",
       "    </tr>\n",
       "  </thead>\n",
       "  <tbody>\n",
       "    <tr>\n",
       "      <th>0</th>\n",
       "      <td>2023001</td>\n",
       "      <td>Male</td>\n",
       "      <td>20</td>\n",
       "      <td>Mathematics</td>\n",
       "      <td>75.0</td>\n",
       "      <td>82.0</td>\n",
       "      <td>68</td>\n",
       "      <td>79.0</td>\n",
       "    </tr>\n",
       "    <tr>\n",
       "      <th>1</th>\n",
       "      <td>2023002</td>\n",
       "      <td>Female</td>\n",
       "      <td>19</td>\n",
       "      <td>Artificial Intelligence</td>\n",
       "      <td>88.0</td>\n",
       "      <td>90.0</td>\n",
       "      <td>75</td>\n",
       "      <td>85.0</td>\n",
       "    </tr>\n",
       "    <tr>\n",
       "      <th>2</th>\n",
       "      <td>2023003</td>\n",
       "      <td>Male</td>\n",
       "      <td>21</td>\n",
       "      <td>Mathematics</td>\n",
       "      <td>NaN</td>\n",
       "      <td>70.0</td>\n",
       "      <td>55</td>\n",
       "      <td>60.0</td>\n",
       "    </tr>\n",
       "    <tr>\n",
       "      <th>3</th>\n",
       "      <td>2023004</td>\n",
       "      <td>Female</td>\n",
       "      <td>20</td>\n",
       "      <td>Artificial Intelligence</td>\n",
       "      <td>92.0</td>\n",
       "      <td>87.0</td>\n",
       "      <td>80</td>\n",
       "      <td>NaN</td>\n",
       "    </tr>\n",
       "    <tr>\n",
       "      <th>4</th>\n",
       "      <td>2023005</td>\n",
       "      <td>Male</td>\n",
       "      <td>19</td>\n",
       "      <td>Mathematics</td>\n",
       "      <td>78.0</td>\n",
       "      <td>NaN</td>\n",
       "      <td>60</td>\n",
       "      <td>70.0</td>\n",
       "    </tr>\n",
       "    <tr>\n",
       "      <th>5</th>\n",
       "      <td>2023006</td>\n",
       "      <td>Female</td>\n",
       "      <td>22</td>\n",
       "      <td>Artificial Intelligence</td>\n",
       "      <td>85.0</td>\n",
       "      <td>80.0</td>\n",
       "      <td>72</td>\n",
       "      <td>82.0</td>\n",
       "    </tr>\n",
       "    <tr>\n",
       "      <th>6</th>\n",
       "      <td>2023007</td>\n",
       "      <td>Male</td>\n",
       "      <td>20</td>\n",
       "      <td>Mathematics</td>\n",
       "      <td>60.0</td>\n",
       "      <td>65.0</td>\n",
       "      <td>50</td>\n",
       "      <td>NaN</td>\n",
       "    </tr>\n",
       "    <tr>\n",
       "      <th>7</th>\n",
       "      <td>2023008</td>\n",
       "      <td>Female</td>\n",
       "      <td>21</td>\n",
       "      <td>Artificial Intelligence</td>\n",
       "      <td>NaN</td>\n",
       "      <td>75.0</td>\n",
       "      <td>62</td>\n",
       "      <td>73.0</td>\n",
       "    </tr>\n",
       "  </tbody>\n",
       "</table>\n",
       "</div>"
      ],
      "text/plain": [
       "   Access_no  gender  age                   course  DSC3108  DSC3114  MTH3108  \\\n",
       "0    2023001    Male   20              Mathematics     75.0     82.0       68   \n",
       "1    2023002  Female   19  Artificial Intelligence     88.0     90.0       75   \n",
       "2    2023003    Male   21              Mathematics      NaN     70.0       55   \n",
       "3    2023004  Female   20  Artificial Intelligence     92.0     87.0       80   \n",
       "4    2023005    Male   19              Mathematics     78.0      NaN       60   \n",
       "5    2023006  Female   22  Artificial Intelligence     85.0     80.0       72   \n",
       "6    2023007    Male   20              Mathematics     60.0     65.0       50   \n",
       "7    2023008  Female   21  Artificial Intelligence      NaN     75.0       62   \n",
       "\n",
       "   SYE3104  \n",
       "0     79.0  \n",
       "1     85.0  \n",
       "2     60.0  \n",
       "3      NaN  \n",
       "4     70.0  \n",
       "5     82.0  \n",
       "6      NaN  \n",
       "7     73.0  "
      ]
     },
     "execution_count": 13,
     "metadata": {},
     "output_type": "execute_result"
    }
   ],
   "source": [
    "grades"
   ]
  },
  {
   "cell_type": "code",
   "execution_count": 15,
   "metadata": {},
   "outputs": [
    {
     "data": {
      "text/plain": [
       "Access_no    0\n",
       "gender       0\n",
       "age          0\n",
       "course       0\n",
       "DSC3108      2\n",
       "DSC3114      1\n",
       "MTH3108      0\n",
       "SYE3104      2\n",
       "dtype: int64"
      ]
     },
     "execution_count": 15,
     "metadata": {},
     "output_type": "execute_result"
    }
   ],
   "source": [
    "grades2=grades.isnull().sum()\n",
    "grades2"
   ]
  },
  {
   "cell_type": "code",
   "execution_count": 25,
   "metadata": {},
   "outputs": [
    {
     "data": {
      "text/plain": [
       "array([[<Axes: title={'center': 'DSC3108'}>]], dtype=object)"
      ]
     },
     "execution_count": 25,
     "metadata": {},
     "output_type": "execute_result"
    },
    {
     "data": {
      "image/png": "[encoded data removed]",
      "text/plain": [
       "<Figure size 1000x1000 with 1 Axes>"
      ]
     },
     "metadata": {},
     "output_type": "display_data"
    }
   ],
   "source": [
    "grades.hist(['DSC3108'], figsize=(10,10))\n"
   ]
  },
  {
   "cell_type": "code",
   "execution_count": 22,
   "metadata": {},
   "outputs": [
    {
     "name": "stderr",
     "output_type": "stream",
     "text": [
      "C:\\Users\\seth\\AppData\\Local\\Temp\\ipykernel_34372\\1443110362.py:1: FutureWarning: A value is trying to be set on a copy of a DataFrame or Series through chained assignment using an inplace method.\n",
      "The behavior will change in pandas 3.0. This inplace method will never work because the intermediate object on which we are setting values always behaves as a copy.\n",
      "\n",
      "For example, when doing 'df[col].method(value, inplace=True)', try using 'df.method({col: value}, inplace=True)' or df[col] = df[col].method(value) instead, to perform the operation inplace on the original object.\n",
      "\n",
      "\n",
      "  grades[\"course\"].fillna(grades[\"course\"].mode(), inplace=True)\n"
     ]
    }
   ],
   "source": [
    "grades[\"course\"].fillna(grades[\"course\"].mode(), inplace=True)\n",
    "grades2=grades\n"
   ]
  },
  {
   "cell_type": "code",
   "execution_count": 23,
   "metadata": {},
   "outputs": [
    {
     "data": {
      "text/plain": [
       "Access_no    0\n",
       "gender       0\n",
       "age          0\n",
       "course       0\n",
       "DSC3108      2\n",
       "DSC3114      1\n",
       "MTH3108      0\n",
       "SYE3104      2\n",
       "dtype: int64"
      ]
     },
     "execution_count": 23,
     "metadata": {},
     "output_type": "execute_result"
    }
   ],
   "source": [
    "grades2=grades.isnull().sum()\n",
    "grades2"
   ]
  },
  {
   "cell_type": "code",
   "execution_count": 26,
   "metadata": {},
   "outputs": [
    {
     "data": {
      "text/plain": [
       "Access_no    0\n",
       "gender       0\n",
       "age          0\n",
       "course       0\n",
       "DSC3108      2\n",
       "DSC3114      1\n",
       "MTH3108      0\n",
       "SYE3104      2\n",
       "dtype: int64"
      ]
     },
     "execution_count": 26,
     "metadata": {},
     "output_type": "execute_result"
    }
   ],
   "source": [
    "grades2\n"
   ]
  },
  {
   "cell_type": "code",
   "execution_count": 27,
   "metadata": {},
   "outputs": [
    {
     "data": {
      "text/plain": [
       "<bound method DataFrame.drop_duplicates of    Access_no  gender  age                   course  DSC3108  DSC3114  MTH3108  \\\n",
       "0    2023001    Male   20              Mathematics     75.0     82.0       68   \n",
       "1    2023002  Female   19  Artificial Intelligence     88.0     90.0       75   \n",
       "2    2023003    Male   21              Mathematics      NaN     70.0       55   \n",
       "3    2023004  Female   20  Artificial Intelligence     92.0     87.0       80   \n",
       "4    2023005    Male   19              Mathematics     78.0      NaN       60   \n",
       "5    2023006  Female   22  Artificial Intelligence     85.0     80.0       72   \n",
       "6    2023007    Male   20              Mathematics     60.0     65.0       50   \n",
       "7    2023008  Female   21  Artificial Intelligence      NaN     75.0       62   \n",
       "\n",
       "   SYE3104  \n",
       "0     79.0  \n",
       "1     85.0  \n",
       "2     60.0  \n",
       "3      NaN  \n",
       "4     70.0  \n",
       "5     82.0  \n",
       "6      NaN  \n",
       "7     73.0  >"
      ]
     },
     "execution_count": 27,
     "metadata": {},
     "output_type": "execute_result"
    }
   ],
   "source": [
    "grades.drop_duplicates"
   ]
  },
  {
   "cell_type": "code",
   "execution_count": 29,
   "metadata": {},
   "outputs": [
    {
     "name": "stdout",
     "output_type": "stream",
     "text": [
      "Structure of the dframe after deleting: (8,)\n"
     ]
    }
   ],
   "source": [
    "print(\"Structure of the dframe after deleting:\", grades2.shape)\n"
   ]
  },
  {
   "cell_type": "code",
   "execution_count": 11,
   "metadata": {},
   "outputs": [],
   "source": [
    "import pandas as pd\n",
    "\n",
    "grades = pd.read_excel(\"studentperformance.xlsx\")"
   ]
  },
  {
   "cell_type": "code",
   "execution_count": 8,
   "metadata": {},
   "outputs": [
    {
     "name": "stdout",
     "output_type": "stream",
     "text": [
      "c:\\Users\\seth\\Desktop\\Big Data Mining and analytics\n"
     ]
    }
   ],
   "source": [
    "import os\n",
    "print(os.getcwd())"
   ]
  },
  {
   "cell_type": "code",
   "execution_count": 10,
   "metadata": {},
   "outputs": [
    {
     "name": "stdout",
     "output_type": "stream",
     "text": [
      "['bigData.ipynb', 'Data_Mining_Sample_data_generated.xlsx', 'Iris.csv', 'Second_EDA.ipynb', 'studentperfomance.xlsx', 'Traffic_Data.csv', 'Train.csv']\n"
     ]
    }
   ],
   "source": [
    "import os\n",
    "print(os.listdir(os.getcwd()))"
   ]
  },
  {
   "cell_type": "code",
   "execution_count": 13,
   "metadata": {},
   "outputs": [
    {
     "data": {
      "text/html": [
       "<div>\n",
       "<style scoped>\n",
       "    .dataframe tbody tr th:only-of-type {\n",
       "        vertical-align: middle;\n",
       "    }\n",
       "\n",
       "    .dataframe tbody tr th {\n",
       "        vertical-align: top;\n",
       "    }\n",
       "\n",
       "    .dataframe thead th {\n",
       "        text-align: right;\n",
       "    }\n",
       "</style>\n",
       "<table border=\"1\" class=\"dataframe\">\n",
       "  <thead>\n",
       "    <tr style=\"text-align: right;\">\n",
       "      <th></th>\n",
       "      <th>Access_no</th>\n",
       "      <th>gender</th>\n",
       "      <th>age</th>\n",
       "      <th>course</th>\n",
       "      <th>DSC3108</th>\n",
       "      <th>DSC3114</th>\n",
       "      <th>MTH3108</th>\n",
       "      <th>SYE3104</th>\n",
       "    </tr>\n",
       "  </thead>\n",
       "  <tbody>\n",
       "    <tr>\n",
       "      <th>0</th>\n",
       "      <td>2023001</td>\n",
       "      <td>Male</td>\n",
       "      <td>20</td>\n",
       "      <td>Mathematics</td>\n",
       "      <td>75.0</td>\n",
       "      <td>82.0</td>\n",
       "      <td>68</td>\n",
       "      <td>79.0</td>\n",
       "    </tr>\n",
       "    <tr>\n",
       "      <th>1</th>\n",
       "      <td>2023002</td>\n",
       "      <td>Female</td>\n",
       "      <td>19</td>\n",
       "      <td>Artificial Intelligence</td>\n",
       "      <td>88.0</td>\n",
       "      <td>90.0</td>\n",
       "      <td>75</td>\n",
       "      <td>85.0</td>\n",
       "    </tr>\n",
       "    <tr>\n",
       "      <th>2</th>\n",
       "      <td>2023003</td>\n",
       "      <td>Male</td>\n",
       "      <td>21</td>\n",
       "      <td>Mathematics</td>\n",
       "      <td>NaN</td>\n",
       "      <td>70.0</td>\n",
       "      <td>55</td>\n",
       "      <td>60.0</td>\n",
       "    </tr>\n",
       "    <tr>\n",
       "      <th>3</th>\n",
       "      <td>2023004</td>\n",
       "      <td>Female</td>\n",
       "      <td>20</td>\n",
       "      <td>Artificial Intelligence</td>\n",
       "      <td>92.0</td>\n",
       "      <td>87.0</td>\n",
       "      <td>80</td>\n",
       "      <td>NaN</td>\n",
       "    </tr>\n",
       "    <tr>\n",
       "      <th>4</th>\n",
       "      <td>2023005</td>\n",
       "      <td>Male</td>\n",
       "      <td>19</td>\n",
       "      <td>Mathematics</td>\n",
       "      <td>78.0</td>\n",
       "      <td>NaN</td>\n",
       "      <td>60</td>\n",
       "      <td>70.0</td>\n",
       "    </tr>\n",
       "  </tbody>\n",
       "</table>\n",
       "</div>"
      ],
      "text/plain": [
       "   Access_no  gender  age                   course  DSC3108  DSC3114  MTH3108  \\\n",
       "0    2023001    Male   20              Mathematics     75.0     82.0       68   \n",
       "1    2023002  Female   19  Artificial Intelligence     88.0     90.0       75   \n",
       "2    2023003    Male   21              Mathematics      NaN     70.0       55   \n",
       "3    2023004  Female   20  Artificial Intelligence     92.0     87.0       80   \n",
       "4    2023005    Male   19              Mathematics     78.0      NaN       60   \n",
       "\n",
       "   SYE3104  \n",
       "0     79.0  \n",
       "1     85.0  \n",
       "2     60.0  \n",
       "3      NaN  \n",
       "4     70.0  "
      ]
     },
     "execution_count": 13,
     "metadata": {},
     "output_type": "execute_result"
    }
   ],
   "source": [
    "grades.head()"
   ]
  },
  {
   "cell_type": "code",
   "execution_count": 15,
   "metadata": {},
   "outputs": [
    {
     "data": {
      "text/html": [
       "<div>\n",
       "<style scoped>\n",
       "    .dataframe tbody tr th:only-of-type {\n",
       "        vertical-align: middle;\n",
       "    }\n",
       "\n",
       "    .dataframe tbody tr th {\n",
       "        vertical-align: top;\n",
       "    }\n",
       "\n",
       "    .dataframe thead th {\n",
       "        text-align: right;\n",
       "    }\n",
       "</style>\n",
       "<table border=\"1\" class=\"dataframe\">\n",
       "  <thead>\n",
       "    <tr style=\"text-align: right;\">\n",
       "      <th></th>\n",
       "      <th>Access_no</th>\n",
       "      <th>gender</th>\n",
       "      <th>age</th>\n",
       "      <th>course</th>\n",
       "      <th>DSC3108</th>\n",
       "      <th>DSC3114</th>\n",
       "      <th>MTH3108</th>\n",
       "      <th>SYE3104</th>\n",
       "    </tr>\n",
       "  </thead>\n",
       "  <tbody>\n",
       "    <tr>\n",
       "      <th>3</th>\n",
       "      <td>2023004</td>\n",
       "      <td>Female</td>\n",
       "      <td>20</td>\n",
       "      <td>Artificial Intelligence</td>\n",
       "      <td>92.0</td>\n",
       "      <td>87.0</td>\n",
       "      <td>80</td>\n",
       "      <td>NaN</td>\n",
       "    </tr>\n",
       "    <tr>\n",
       "      <th>4</th>\n",
       "      <td>2023005</td>\n",
       "      <td>Male</td>\n",
       "      <td>19</td>\n",
       "      <td>Mathematics</td>\n",
       "      <td>78.0</td>\n",
       "      <td>NaN</td>\n",
       "      <td>60</td>\n",
       "      <td>70.0</td>\n",
       "    </tr>\n",
       "    <tr>\n",
       "      <th>5</th>\n",
       "      <td>2023006</td>\n",
       "      <td>Female</td>\n",
       "      <td>22</td>\n",
       "      <td>Artificial Intelligence</td>\n",
       "      <td>85.0</td>\n",
       "      <td>80.0</td>\n",
       "      <td>72</td>\n",
       "      <td>82.0</td>\n",
       "    </tr>\n",
       "    <tr>\n",
       "      <th>6</th>\n",
       "      <td>2023007</td>\n",
       "      <td>Male</td>\n",
       "      <td>20</td>\n",
       "      <td>Mathematics</td>\n",
       "      <td>60.0</td>\n",
       "      <td>65.0</td>\n",
       "      <td>50</td>\n",
       "      <td>NaN</td>\n",
       "    </tr>\n",
       "    <tr>\n",
       "      <th>7</th>\n",
       "      <td>2023008</td>\n",
       "      <td>Female</td>\n",
       "      <td>21</td>\n",
       "      <td>Artificial Intelligence</td>\n",
       "      <td>NaN</td>\n",
       "      <td>75.0</td>\n",
       "      <td>62</td>\n",
       "      <td>73.0</td>\n",
       "    </tr>\n",
       "  </tbody>\n",
       "</table>\n",
       "</div>"
      ],
      "text/plain": [
       "   Access_no  gender  age                   course  DSC3108  DSC3114  MTH3108  \\\n",
       "3    2023004  Female   20  Artificial Intelligence     92.0     87.0       80   \n",
       "4    2023005    Male   19              Mathematics     78.0      NaN       60   \n",
       "5    2023006  Female   22  Artificial Intelligence     85.0     80.0       72   \n",
       "6    2023007    Male   20              Mathematics     60.0     65.0       50   \n",
       "7    2023008  Female   21  Artificial Intelligence      NaN     75.0       62   \n",
       "\n",
       "   SYE3104  \n",
       "3      NaN  \n",
       "4     70.0  \n",
       "5     82.0  \n",
       "6      NaN  \n",
       "7     73.0  "
      ]
     },
     "execution_count": 15,
     "metadata": {},
     "output_type": "execute_result"
    }
   ],
   "source": [
    "grades.tail()"
   ]
  },
  {
   "cell_type": "code",
   "execution_count": 17,
   "metadata": {},
   "outputs": [
    {
     "data": {
      "text/html": [
       "<div>\n",
       "<style scoped>\n",
       "    .dataframe tbody tr th:only-of-type {\n",
       "        vertical-align: middle;\n",
       "    }\n",
       "\n",
       "    .dataframe tbody tr th {\n",
       "        vertical-align: top;\n",
       "    }\n",
       "\n",
       "    .dataframe thead th {\n",
       "        text-align: right;\n",
       "    }\n",
       "</style>\n",
       "<table border=\"1\" class=\"dataframe\">\n",
       "  <thead>\n",
       "    <tr style=\"text-align: right;\">\n",
       "      <th></th>\n",
       "      <th>Access_no</th>\n",
       "      <th>age</th>\n",
       "      <th>DSC3108</th>\n",
       "      <th>DSC3114</th>\n",
       "      <th>MTH3108</th>\n",
       "      <th>SYE3104</th>\n",
       "    </tr>\n",
       "  </thead>\n",
       "  <tbody>\n",
       "    <tr>\n",
       "      <th>count</th>\n",
       "      <td>8.000000e+00</td>\n",
       "      <td>8.000000</td>\n",
       "      <td>6.000000</td>\n",
       "      <td>7.000000</td>\n",
       "      <td>8.000000</td>\n",
       "      <td>6.000000</td>\n",
       "    </tr>\n",
       "    <tr>\n",
       "      <th>mean</th>\n",
       "      <td>2.023004e+06</td>\n",
       "      <td>20.250000</td>\n",
       "      <td>79.666667</td>\n",
       "      <td>78.428571</td>\n",
       "      <td>65.250000</td>\n",
       "      <td>74.833333</td>\n",
       "    </tr>\n",
       "    <tr>\n",
       "      <th>std</th>\n",
       "      <td>2.449490e+00</td>\n",
       "      <td>1.035098</td>\n",
       "      <td>11.500725</td>\n",
       "      <td>8.997354</td>\n",
       "      <td>10.292161</td>\n",
       "      <td>9.152413</td>\n",
       "    </tr>\n",
       "    <tr>\n",
       "      <th>min</th>\n",
       "      <td>2.023001e+06</td>\n",
       "      <td>19.000000</td>\n",
       "      <td>60.000000</td>\n",
       "      <td>65.000000</td>\n",
       "      <td>50.000000</td>\n",
       "      <td>60.000000</td>\n",
       "    </tr>\n",
       "    <tr>\n",
       "      <th>25%</th>\n",
       "      <td>2.023003e+06</td>\n",
       "      <td>19.750000</td>\n",
       "      <td>75.750000</td>\n",
       "      <td>72.500000</td>\n",
       "      <td>58.750000</td>\n",
       "      <td>70.750000</td>\n",
       "    </tr>\n",
       "    <tr>\n",
       "      <th>50%</th>\n",
       "      <td>2.023004e+06</td>\n",
       "      <td>20.000000</td>\n",
       "      <td>81.500000</td>\n",
       "      <td>80.000000</td>\n",
       "      <td>65.000000</td>\n",
       "      <td>76.000000</td>\n",
       "    </tr>\n",
       "    <tr>\n",
       "      <th>75%</th>\n",
       "      <td>2.023006e+06</td>\n",
       "      <td>21.000000</td>\n",
       "      <td>87.250000</td>\n",
       "      <td>84.500000</td>\n",
       "      <td>72.750000</td>\n",
       "      <td>81.250000</td>\n",
       "    </tr>\n",
       "    <tr>\n",
       "      <th>max</th>\n",
       "      <td>2.023008e+06</td>\n",
       "      <td>22.000000</td>\n",
       "      <td>92.000000</td>\n",
       "      <td>90.000000</td>\n",
       "      <td>80.000000</td>\n",
       "      <td>85.000000</td>\n",
       "    </tr>\n",
       "  </tbody>\n",
       "</table>\n",
       "</div>"
      ],
      "text/plain": [
       "          Access_no        age    DSC3108    DSC3114    MTH3108    SYE3104\n",
       "count  8.000000e+00   8.000000   6.000000   7.000000   8.000000   6.000000\n",
       "mean   2.023004e+06  20.250000  79.666667  78.428571  65.250000  74.833333\n",
       "std    2.449490e+00   1.035098  11.500725   8.997354  10.292161   9.152413\n",
       "min    2.023001e+06  19.000000  60.000000  65.000000  50.000000  60.000000\n",
       "25%    2.023003e+06  19.750000  75.750000  72.500000  58.750000  70.750000\n",
       "50%    2.023004e+06  20.000000  81.500000  80.000000  65.000000  76.000000\n",
       "75%    2.023006e+06  21.000000  87.250000  84.500000  72.750000  81.250000\n",
       "max    2.023008e+06  22.000000  92.000000  90.000000  80.000000  85.000000"
      ]
     },
     "execution_count": 17,
     "metadata": {},
     "output_type": "execute_result"
    }
   ],
   "source": [
    "grades.describe()"
   ]
  },
  {
   "cell_type": "code",
   "execution_count": 18,
   "metadata": {},
   "outputs": [
    {
     "name": "stdout",
     "output_type": "stream",
     "text": [
      "<class 'pandas.core.frame.DataFrame'>\n",
      "RangeIndex: 8 entries, 0 to 7\n",
      "Data columns (total 8 columns):\n",
      " #   Column     Non-Null Count  Dtype  \n",
      "---  ------     --------------  -----  \n",
      " 0   Access_no  8 non-null      int64  \n",
      " 1   gender     8 non-null      object \n",
      " 2   age        8 non-null      int64  \n",
      " 3   course     8 non-null      object \n",
      " 4   DSC3108    6 non-null      float64\n",
      " 5   DSC3114    7 non-null      float64\n",
      " 6   MTH3108    8 non-null      int64  \n",
      " 7   SYE3104    6 non-null      float64\n",
      "dtypes: float64(3), int64(3), object(2)\n",
      "memory usage: 644.0+ bytes\n"
     ]
    }
   ],
   "source": [
    "grades.info()"
   ]
  }
 ],
 "metadata": {
  "kernelspec": {
   "display_name": "Python 3",
   "language": "python",
   "name": "python3"
  },
  "language_info": {
   "codemirror_mode": {
    "name": "ipython",
    "version": 3
   },
   "file_extension": ".py",
   "mimetype": "text/x-python",
   "name": "python",
   "nbconvert_exporter": "python",
   "pygments_lexer": "ipython3",
   "version": "3.12.6"
  }
 },
 "nbformat": 4,
 "nbformat_minor": 2
}
